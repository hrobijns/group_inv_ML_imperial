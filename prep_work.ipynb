{
  "nbformat": 4,
  "nbformat_minor": 0,
  "metadata": {
    "colab": {
      "provenance": [],
      "authorship_tag": "ABX9TyMEnsgy8c2RoM25+D9SYBt4",
      "include_colab_link": true
    },
    "kernelspec": {
      "name": "python3",
      "display_name": "Python 3"
    },
    "language_info": {
      "name": "python"
    }
  },
  "cells": [
    {
      "cell_type": "markdown",
      "metadata": {
        "id": "view-in-github",
        "colab_type": "text"
      },
      "source": [
        "<a href=\"https://colab.research.google.com/github/hrobijns/imperial_summer_2024/blob/main/prep_work.ipynb\" target=\"_parent\"><img src=\"https://colab.research.google.com/assets/colab-badge.svg\" alt=\"Open In Colab\"/></a>"
      ]
    },
    {
      "cell_type": "markdown",
      "source": [
        "**Import necessary libraries:**"
      ],
      "metadata": {
        "id": "cXbk7RNucBig"
      }
    },
    {
      "cell_type": "code",
      "source": [
        "import requests\n",
        "import numpy as np\n",
        "import ast\n",
        "import tensorflow as tf\n",
        "from sklearn.model_selection import train_test_split"
      ],
      "metadata": {
        "id": "U8W9o8gZcAig"
      },
      "execution_count": null,
      "outputs": []
    },
    {
      "cell_type": "markdown",
      "source": [
        "**Import and process the data into numpy arrays:**"
      ],
      "metadata": {
        "id": "2i7IFNCob85K"
      }
    },
    {
      "cell_type": "code",
      "source": [
        "url_WP4s = 'https://raw.githubusercontent.com/TomasSilva/MLcCY7/main/Data/WP4s.txt'\n",
        "url_WP4_Hodges = 'https://raw.githubusercontent.com/TomasSilva/MLcCY7/main/Data/WP4_Hodges.txt'"
      ],
      "metadata": {
        "id": "eVl19qOZinfW"
      },
      "execution_count": null,
      "outputs": []
    },
    {
      "cell_type": "code",
      "source": [
        "#dataset 1:\n",
        "WP4_Hodges_raw = requests.get(url_WP4_Hodges) #opens the file\n",
        "\n",
        "WP4_Hodges_list = ast.literal_eval(WP4_Hodges_raw.text) #converts from string to list\n",
        "WP4_Hodges = np.array(WP4_Hodges_list) #converts from list to NumPy array\n",
        "\n",
        "#dataset 2:\n",
        "WP4s_raw = requests.get(url_WP4s) #opens the file\n",
        "\n",
        "WP4s_list = ast.literal_eval(WP4s_raw.text) #converts from string to list\n",
        "WP4s = np.array(WP4s_list) #converts from list to NumPy array"
      ],
      "metadata": {
        "id": "mvS5cqazcXm5"
      },
      "execution_count": null,
      "outputs": []
    },
    {
      "cell_type": "code",
      "source": [
        "print(\"shape of WP4s: \" + str(WP4s.shape))\n",
        "print(\"shape of WP4_Hodges: \" + str(WP4_Hodges.shape))"
      ],
      "metadata": {
        "colab": {
          "base_uri": "https://localhost:8080/"
        },
        "id": "mRxm8Ue7lr-R",
        "outputId": "aa7824af-6e1b-4b47-d1b7-3dfcce0b3a48"
      },
      "execution_count": null,
      "outputs": [
        {
          "output_type": "stream",
          "name": "stdout",
          "text": [
            "shape of WP4s: (7555, 5)\n",
            "shape of WP4_Hodges: (7555, 2)\n"
          ]
        }
      ]
    },
    {
      "cell_type": "markdown",
      "source": [
        "**Define and train neural network:**"
      ],
      "metadata": {
        "id": "wDNSiLSOeOXc"
      }
    },
    {
      "cell_type": "code",
      "source": [
        "X = WP4s\n",
        "y = WP4_Hodges\n",
        "X_train, X_test, y_train, y_test = train_test_split(WP4s, y, test_size=0.5) #split data into training and testing\n",
        "X_train, X_test = tf.keras.utils.normalize(X_train, axis=1), tf.keras.utils.normalize(X_test, axis=1) #normalise"
      ],
      "metadata": {
        "id": "V8l-1252nIhw"
      },
      "execution_count": null,
      "outputs": []
    },
    {
      "cell_type": "code",
      "source": [
        "def get_network():\n",
        "    inp = tf.keras.layers.Input(shape=(5,))\n",
        "    prep = tf.keras.layers.Flatten()(inp)\n",
        "    h1 = tf.keras.layers.Dense(1000, activation=tf.nn.relu)(prep)\n",
        "    h2 = tf.keras.layers.Dense(100, activation=tf.nn.relu)(h1)\n",
        "    out = tf.keras.layers.Dense(2, activation=tf.nn.relu)(h2)\n",
        "\n",
        "    model = tf.keras.models.Model(inputs=inp, outputs=out)\n",
        "    model.compile(\n",
        "        loss='mean_squared_error',\n",
        "        optimizer=tf.keras.optimizers.Adam(0.001),\n",
        "        metrics = ['accuracy']\n",
        "    )\n",
        "    return model\n",
        "\n",
        "def train_network(X_train, y_train, X_test, y_test):\n",
        "    model = get_network()\n",
        "    history = model.fit(\n",
        "        X_train, y_train,\n",
        "        epochs=20,\n",
        "        validation_data=(X_test, y_test),\n",
        "    )\n",
        "    return history"
      ],
      "metadata": {
        "id": "XMsB7y3idvpz"
      },
      "execution_count": null,
      "outputs": []
    },
    {
      "cell_type": "code",
      "source": [
        "model = get_network()\n",
        "print(model.summary())\n",
        "\n",
        "history = train_network(X_train, y_train, X_test, y_test)"
      ],
      "metadata": {
        "colab": {
          "base_uri": "https://localhost:8080/"
        },
        "id": "1c3YfWqFo8ZM",
        "outputId": "ae3046db-aaee-439d-ffe1-fa769f9d17f4"
      },
      "execution_count": null,
      "outputs": [
        {
          "output_type": "stream",
          "name": "stdout",
          "text": [
            "Model: \"model\"\n",
            "_________________________________________________________________\n",
            " Layer (type)                Output Shape              Param #   \n",
            "=================================================================\n",
            " input_1 (InputLayer)        [(None, 5)]               0         \n",
            "                                                                 \n",
            " flatten (Flatten)           (None, 5)                 0         \n",
            "                                                                 \n",
            " dense (Dense)               (None, 1000)              6000      \n",
            "                                                                 \n",
            " dense_1 (Dense)             (None, 100)               100100    \n",
            "                                                                 \n",
            " dense_2 (Dense)             (None, 2)                 202       \n",
            "                                                                 \n",
            "=================================================================\n",
            "Total params: 106302 (415.24 KB)\n",
            "Trainable params: 106302 (415.24 KB)\n",
            "Non-trainable params: 0 (0.00 Byte)\n",
            "_________________________________________________________________\n",
            "None\n",
            "Epoch 1/20\n",
            "119/119 [==============================] - 2s 8ms/step - loss: 5645.3848 - accuracy: 0.6412 - val_loss: 3546.1843 - val_accuracy: 0.6421\n",
            "Epoch 2/20\n",
            "119/119 [==============================] - 1s 6ms/step - loss: 3574.0598 - accuracy: 0.6410 - val_loss: 3363.4907 - val_accuracy: 0.6421\n",
            "Epoch 3/20\n",
            "119/119 [==============================] - 1s 9ms/step - loss: 3378.3325 - accuracy: 0.6410 - val_loss: 3158.6667 - val_accuracy: 0.6421\n",
            "Epoch 4/20\n",
            "119/119 [==============================] - 1s 9ms/step - loss: 3178.7803 - accuracy: 0.6410 - val_loss: 2983.6208 - val_accuracy: 0.6424\n",
            "Epoch 5/20\n",
            "119/119 [==============================] - 1s 9ms/step - loss: 3034.2644 - accuracy: 0.6410 - val_loss: 2919.7314 - val_accuracy: 0.6421\n",
            "Epoch 6/20\n",
            "119/119 [==============================] - 1s 5ms/step - loss: 2962.0881 - accuracy: 0.6407 - val_loss: 2843.9468 - val_accuracy: 0.6424\n",
            "Epoch 7/20\n",
            "119/119 [==============================] - 1s 5ms/step - loss: 2907.4070 - accuracy: 0.6415 - val_loss: 2787.6938 - val_accuracy: 0.6403\n",
            "Epoch 8/20\n",
            "119/119 [==============================] - 1s 6ms/step - loss: 2860.8650 - accuracy: 0.6410 - val_loss: 2755.4124 - val_accuracy: 0.6403\n",
            "Epoch 9/20\n",
            "119/119 [==============================] - 1s 6ms/step - loss: 2834.8679 - accuracy: 0.6412 - val_loss: 2725.5732 - val_accuracy: 0.6406\n",
            "Epoch 10/20\n",
            "119/119 [==============================] - 1s 5ms/step - loss: 2800.6775 - accuracy: 0.6407 - val_loss: 2702.6318 - val_accuracy: 0.6406\n",
            "Epoch 11/20\n",
            "119/119 [==============================] - 1s 5ms/step - loss: 2782.4321 - accuracy: 0.6405 - val_loss: 2683.5068 - val_accuracy: 0.6419\n",
            "Epoch 12/20\n",
            "119/119 [==============================] - 1s 6ms/step - loss: 2766.2847 - accuracy: 0.6410 - val_loss: 2665.5383 - val_accuracy: 0.6421\n",
            "Epoch 13/20\n",
            "119/119 [==============================] - 1s 6ms/step - loss: 2756.5437 - accuracy: 0.6410 - val_loss: 2659.5935 - val_accuracy: 0.6421\n",
            "Epoch 14/20\n",
            "119/119 [==============================] - 1s 5ms/step - loss: 2741.9277 - accuracy: 0.6410 - val_loss: 2654.8999 - val_accuracy: 0.6421\n",
            "Epoch 15/20\n",
            "119/119 [==============================] - 1s 6ms/step - loss: 2733.4302 - accuracy: 0.6410 - val_loss: 2647.4666 - val_accuracy: 0.6421\n",
            "Epoch 16/20\n",
            "119/119 [==============================] - 1s 6ms/step - loss: 2726.2070 - accuracy: 0.6410 - val_loss: 2637.6006 - val_accuracy: 0.6421\n",
            "Epoch 17/20\n",
            "119/119 [==============================] - 1s 6ms/step - loss: 2719.3938 - accuracy: 0.6410 - val_loss: 2641.6895 - val_accuracy: 0.6421\n",
            "Epoch 18/20\n",
            "119/119 [==============================] - 1s 5ms/step - loss: 2722.6895 - accuracy: 0.6410 - val_loss: 2639.7290 - val_accuracy: 0.6421\n",
            "Epoch 19/20\n",
            "119/119 [==============================] - 1s 5ms/step - loss: 2715.9141 - accuracy: 0.6410 - val_loss: 2620.4031 - val_accuracy: 0.6421\n",
            "Epoch 20/20\n",
            "119/119 [==============================] - 1s 6ms/step - loss: 2718.2534 - accuracy: 0.6410 - val_loss: 2611.9287 - val_accuracy: 0.6421\n"
          ]
        }
      ]
    },
    {
      "cell_type": "markdown",
      "source": [
        "**Increasing accuracy/reducing loss:**\n"
      ],
      "metadata": {
        "id": "jZlaTCP0vdC4"
      }
    }
  ]
}